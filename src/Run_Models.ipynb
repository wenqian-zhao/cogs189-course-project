{
 "cells": [
  {
   "cell_type": "code",
   "execution_count": 1,
   "metadata": {},
   "outputs": [],
   "source": [
    "import models"
   ]
  },
  {
   "attachments": {},
   "cell_type": "markdown",
   "metadata": {},
   "source": [
    "#### Logistic Regression Model"
   ]
  },
  {
   "cell_type": "code",
   "execution_count": null,
   "metadata": {},
   "outputs": [],
   "source": [
    "# print(\"Training set score: {:.3f}\".format(logreg.score(X_train, y_train)))\n",
    "# print(\"Test set score: {:.3f}\".format(logreg.score(X_test, y_test)))\n",
    "# print(\"Precision  {:.2f}\".format(precision_score(y_test,prediction, average='binary')))\n",
    "# print(\"Recall {:.2f}\".format(recall_score(y_test,prediction, labels=[-1,1], average='micro')))\n",
    "# plt.figure()\n",
    "# plot_confusion_matrix(logreg, X_test, y_test)\n",
    "# plt.show()"
   ]
  }
 ],
 "metadata": {
  "kernelspec": {
   "display_name": "base",
   "language": "python",
   "name": "python3"
  },
  "language_info": {
   "codemirror_mode": {
    "name": "ipython",
    "version": 3
   },
   "file_extension": ".py",
   "mimetype": "text/x-python",
   "name": "python",
   "nbconvert_exporter": "python",
   "pygments_lexer": "ipython3",
   "version": "3.9.13"
  },
  "orig_nbformat": 4
 },
 "nbformat": 4,
 "nbformat_minor": 2
}
